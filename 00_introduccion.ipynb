{
 "cells": [
  {
   "cell_type": "markdown",
   "metadata": {},
   "source": [
    "## Introducción a la regresión lineal"
   ]
  },
  {
   "cell_type": "markdown",
   "metadata": {},
   "source": [
    "En esta notebook estaremos viendo qué es una regresión lineal y cómo funciona con un ejemplo en Python. Para esto lo primero que tendremos que hacer es descargar los datos y entender qué contienen.\n",
    "\n",
    "El conjunto de datos puede ser encontrado aquí: https://www.kaggle.com/datasets/vikrishnan/boston-house-prices?resource=download"
   ]
  },
  {
   "cell_type": "markdown",
   "metadata": {},
   "source": [
    "## Importando los datos"
   ]
  },
  {
   "cell_type": "code",
   "execution_count": 1,
   "metadata": {},
   "outputs": [],
   "source": [
    "import pandas as pd"
   ]
  },
  {
   "cell_type": "code",
   "execution_count": 6,
   "metadata": {},
   "outputs": [
    {
     "name": "stderr",
     "output_type": "stream",
     "text": [
      "<>:1: SyntaxWarning: invalid escape sequence '\\s'\n",
      "<>:1: SyntaxWarning: invalid escape sequence '\\s'\n",
      "C:\\Users\\Pável Hernández\\AppData\\Local\\Temp\\ipykernel_8116\\1607448469.py:1: SyntaxWarning: invalid escape sequence '\\s'\n",
      "  df = pd.read_csv(\"housing.csv\", header=None, sep=\"\\s+\")\n"
     ]
    },
    {
     "data": {
      "text/html": [
       "<div>\n",
       "<style scoped>\n",
       "    .dataframe tbody tr th:only-of-type {\n",
       "        vertical-align: middle;\n",
       "    }\n",
       "\n",
       "    .dataframe tbody tr th {\n",
       "        vertical-align: top;\n",
       "    }\n",
       "\n",
       "    .dataframe thead th {\n",
       "        text-align: right;\n",
       "    }\n",
       "</style>\n",
       "<table border=\"1\" class=\"dataframe\">\n",
       "  <thead>\n",
       "    <tr style=\"text-align: right;\">\n",
       "      <th></th>\n",
       "      <th>CRIM</th>\n",
       "      <th>ZN</th>\n",
       "      <th>INDUS</th>\n",
       "      <th>CHAS</th>\n",
       "      <th>NOX</th>\n",
       "      <th>RM</th>\n",
       "      <th>AGE</th>\n",
       "      <th>DIS</th>\n",
       "      <th>RAD</th>\n",
       "      <th>TAX</th>\n",
       "      <th>PTRATIO</th>\n",
       "      <th>B</th>\n",
       "      <th>LSTAT</th>\n",
       "      <th>MEDV</th>\n",
       "    </tr>\n",
       "  </thead>\n",
       "  <tbody>\n",
       "    <tr>\n",
       "      <th>0</th>\n",
       "      <td>0.00632</td>\n",
       "      <td>18.0</td>\n",
       "      <td>2.31</td>\n",
       "      <td>0</td>\n",
       "      <td>0.538</td>\n",
       "      <td>6.575</td>\n",
       "      <td>65.2</td>\n",
       "      <td>4.0900</td>\n",
       "      <td>1</td>\n",
       "      <td>296.0</td>\n",
       "      <td>15.3</td>\n",
       "      <td>396.9</td>\n",
       "      <td>4.98</td>\n",
       "      <td>24.0</td>\n",
       "    </tr>\n",
       "    <tr>\n",
       "      <th>1</th>\n",
       "      <td>0.02731</td>\n",
       "      <td>0.0</td>\n",
       "      <td>7.07</td>\n",
       "      <td>0</td>\n",
       "      <td>0.469</td>\n",
       "      <td>6.421</td>\n",
       "      <td>78.9</td>\n",
       "      <td>4.9671</td>\n",
       "      <td>2</td>\n",
       "      <td>242.0</td>\n",
       "      <td>17.8</td>\n",
       "      <td>396.9</td>\n",
       "      <td>9.14</td>\n",
       "      <td>21.6</td>\n",
       "    </tr>\n",
       "  </tbody>\n",
       "</table>\n",
       "</div>"
      ],
      "text/plain": [
       "      CRIM    ZN  INDUS  CHAS    NOX     RM   AGE     DIS  RAD    TAX  \\\n",
       "0  0.00632  18.0   2.31     0  0.538  6.575  65.2  4.0900    1  296.0   \n",
       "1  0.02731   0.0   7.07     0  0.469  6.421  78.9  4.9671    2  242.0   \n",
       "\n",
       "   PTRATIO      B  LSTAT  MEDV  \n",
       "0     15.3  396.9   4.98  24.0  \n",
       "1     17.8  396.9   9.14  21.6  "
      ]
     },
     "execution_count": 6,
     "metadata": {},
     "output_type": "execute_result"
    }
   ],
   "source": [
    "df = pd.read_csv(\"housing.csv\", header=None, sep=\"\\s+\")\n",
    "df.columns = ['CRIM', 'ZN', 'INDUS', 'CHAS', 'NOX', 'RM', 'AGE', 'DIS', 'RAD', 'TAX', 'PTRATIO', 'B', 'LSTAT', 'MEDV']\n",
    "df.head(2)"
   ]
  },
  {
   "cell_type": "markdown",
   "metadata": {},
   "source": [
    "## Detalles del conjunto de datos:"
   ]
  },
  {
   "cell_type": "markdown",
   "metadata": {},
   "source": [
    "Una explicación más detallada de cada columna en el conjunto de datos Boston Housing:\n",
    "\n",
    "1. **CRIM (Tasa de criminalidad per cápita por ciudad):** Esta columna indica la tasa de criminalidad per cápita en la ciudad correspondiente. Mide la cantidad de delitos cometidos por habitante en una determinada área.\n",
    "\n",
    "2. **ZN (Proporción de terreno residencial zonificado para lotes de más de 25,000 pies cuadrados):** Esta columna representa la proporción de terreno residencial en la ciudad que está zonificado para lotes grandes, es decir, lotes de más de 25,000 pies cuadrados. Proporciona información sobre la distribución del uso del suelo en la zona.\n",
    "\n",
    "3. **INDUS (Proporción de acres de negocios no minoristas por ciudad):** Indica la proporción de acres de tierra en la ciudad dedicada a negocios no minoristas, como fábricas, almacenes, etc. Es una medida de la industrialización de la zona.\n",
    "\n",
    "4. **CHAS (Variable ficticia del río Charles):** Es una variable ficticia que toma el valor 1 si el terreno de la ciudad colinda con el río Charles y 0 en caso contrario. Puede considerarse como una característica binaria que indica la proximidad a un cuerpo de agua.\n",
    "\n",
    "5. **NOX (Concentración de óxidos nítricos):** Representa la concentración de óxidos nítricos (contaminantes del aire) en partes por 10 millones en la ciudad. Proporciona información sobre la calidad del aire en la zona.\n",
    "\n",
    "6. **RM (Número medio de habitaciones por vivienda):** Indica el número promedio de habitaciones por vivienda en la ciudad. Es una medida de la tamaño promedio de las viviendas en la zona.\n",
    "\n",
    "7. **AGE (Proporción de unidades ocupadas por sus propietarios construidas antes de 1940):** Esta columna representa la proporción de unidades de vivienda ocupadas por sus propietarios que fueron construidas antes de 1940. Proporciona información sobre la antigüedad de las viviendas en la zona.\n",
    "\n",
    "8. **DIS (Distancias ponderadas a cinco centros de empleo de Boston):** Indica las distancias ponderadas a cinco centros de empleo en Boston. Es una medida de la accesibilidad a empleo en la zona.\n",
    "\n",
    "9. **RAD (Índice de accesibilidad a carreteras radiales):** Este índice indica la accesibilidad a carreteras radiales principales en la ciudad. Cuanto mayor es el valor, mayor es la accesibilidad.\n",
    "\n",
    "10. **TAX (Tasa de impuesto a la propiedad):** Representa la tasa de impuesto a la propiedad de valor total por cada $10,000 en la ciudad. Es una medida de la carga impositiva en la zona.\n",
    "\n",
    "11. **PTRATIO (Proporción alumno-maestro por ciudad):** Indica la proporción de alumnos por maestro en las escuelas de la ciudad. Es una medida de la calidad del sistema educativo en la zona.\n",
    "\n",
    "12. **B (1000(Bk - 0.63)^2 donde Bk es la proporción de negros por ciudad):** Esta columna está relacionada con la proporción de población negra por ciudad. La fórmula especificada ajusta esta proporción para fines de análisis estadístico.\n",
    "\n",
    "13. **LSTAT (Porcentaje de población de estatus bajo):** Indica el porcentaje de población de estatus socioeconómico bajo en la ciudad. Es una medida de la desigualdad económica en la zona.\n",
    "\n",
    "14. **MEDV (Valor mediano de las viviendas ocupadas por sus propietarios en miles de dólares):** Esta columna representa el valor mediano de las viviendas ocupadas por sus propietarios en miles de dólares en la ciudad. Es la variable objetivo que se intenta predecir en los modelos de regresión."
   ]
  }
 ],
 "metadata": {
  "kernelspec": {
   "display_name": "env",
   "language": "python",
   "name": "python3"
  },
  "language_info": {
   "codemirror_mode": {
    "name": "ipython",
    "version": 3
   },
   "file_extension": ".py",
   "mimetype": "text/x-python",
   "name": "python",
   "nbconvert_exporter": "python",
   "pygments_lexer": "ipython3",
   "version": "3.12.2"
  }
 },
 "nbformat": 4,
 "nbformat_minor": 2
}
