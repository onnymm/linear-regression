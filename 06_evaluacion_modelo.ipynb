{
 "cells": [
  {
   "cell_type": "markdown",
   "metadata": {},
   "source": [
    "## Evaluando el modelo"
   ]
  },
  {
   "cell_type": "markdown",
   "metadata": {},
   "source": [
    "### Métricas para entender cómo se ajusta un modelo a los datos reales"
   ]
  },
  {
   "cell_type": "markdown",
   "metadata": {},
   "source": [
    "Es importante mencionar que las métricas de las que se habla en esta clase aplican para cualquier problema de regresión de valores numéricos"
   ]
  },
  {
   "cell_type": "markdown",
   "metadata": {},
   "source": [
    "## Comenzar con MSE"
   ]
  },
  {
   "cell_type": "markdown",
   "metadata": {},
   "source": [
    "- **MSE (Mean Square Error)** se usa para evaluar función de pérdida\n",
    "- Es bueno revisar cuál fue este mínimo hallado por el modelo\n",
    "\n",
    "En muchos casos, esta métrica se usa para minimizar el costo dentro de nuestra función. Esto quiere decir que, si desde un inicio esta métrica ya es mala, probablemente el modelo no se está ajustando.\n",
    "\n",
    "Lo que esta métrica calcula es comparar los valores predichos por el modelo contra los valores reales que existen en los datos. Esta diferencia se calcula por cada uno de los datos en el conjunto de datos. Las diferencias se elevan al cuadrado y se suman. Finalmente este número se divide entre la cantidad total de muestras en el conjunto de datos, o lo mismo que multiplicar esta suma por $ \\frac{1}{N} $ ."
   ]
  },
  {
   "cell_type": "markdown",
   "metadata": {},
   "source": [
    "## $$ MSE = \\frac{1}{N} \\sum_{i=1}^{N}(y_{i} - \\hat{y}_{i})^{2} $$"
   ]
  },
  {
   "cell_type": "markdown",
   "metadata": {},
   "source": [
    "Sin embargo, si se aplica esta métrica en una tercera dimensión, esto tiende a tener un valor mayor a si se aplicara sólo con dos dimensiones. Para esto se aplica el coeficiente de determinación.\n",
    "\n",
    "Este coeficiente de determinación intenta mostrar qué tan bien se ajusta el modelo con base en la varianza de los datos, es decir, está intentando entender cuál es la varianza que explica el modelo en base a los datos que existen y su variabilidad.\n",
    "\n",
    "El coeficiente de determinación es una de las métricas más utilizadas y mientras más se acerca a 1, es mejor."
   ]
  },
  {
   "cell_type": "markdown",
   "metadata": {},
   "source": [
    "Coeficiente de determinación $ R^{2} $\n",
    "\n",
    "## $$ R^{2} = 1 - \\frac{\\sum_{i=1}^{N}(y_{i} - \\hat{y}_{i})^{2}}{\\sum_{i=1}^{N}(y_{i} - \\overline{y}_{i})^{2}} $$"
   ]
  },
  {
   "cell_type": "markdown",
   "metadata": {},
   "source": [
    "A pesar de que estas son las dos métricas que más se utilizarán en el curso, existen otras métricas que será bueno mencionar para su conocimiento:\n",
    "\n",
    "- R ajustada\n",
    "    - Utiliza una pequeña correción a la $R^{2}$ para cuando hay muchas variables en el modelo\n",
    "- Error absoluto promedio (MAE)\n",
    "    - Utiliza valores absolutos en vez de elevar al cuadrado para obtener todos los errores\n",
    "- Mediana de los errores absolutos\n",
    "    - Utiliza la mediana de todos los errores y esto funciona para mitigar el daño de los errores atípicos que pueda tener el modelo\n",
    "\n",
    "Otras métricas a mencionar:\n",
    "- Error máximo\n",
    "- Raíz del promedio de los errores cuadrados (RMSE)\n",
    "- Varianza explicada\n"
   ]
  },
  {
   "cell_type": "markdown",
   "metadata": {},
   "source": [
    "Sin embargo, además de todas estas métricas, existe una manera de analizar el modelo a través de gráficas y esto es a través de las gráficas de los residuales.\n",
    "\n",
    "Es utilizar la función lineal de la predicción e inclinarla de manera totalmente horizontal y será muy fácil entender qué tan lejos están los valores reales de la predicción deonde la línea en el 0 (Eje Y) representa la predicción del modelo y los puntos son todos los errores que existen entre la predicción y los valores reales."
   ]
  },
  {
   "cell_type": "code",
   "execution_count": 3,
   "metadata": {},
   "outputs": [
    {
     "data": {
      "text/html": [
       "<img src=\"https://www.qualtrics.com/m/assets/support/wp-content/uploads/2017/07/Screen-Shot-2017-07-19-at-9.46.11-AM.png\" width=\"700\"/>"
      ],
      "text/plain": [
       "<IPython.core.display.Image object>"
      ]
     },
     "execution_count": 3,
     "metadata": {},
     "output_type": "execute_result"
    }
   ],
   "source": [
    "from IPython.display import Image\n",
    "Image(url=\"https://www.qualtrics.com/m/assets/support/wp-content/uploads/2017/07/Screen-Shot-2017-07-19-at-9.46.11-AM.png\", width=700)"
   ]
  }
 ],
 "metadata": {
  "kernelspec": {
   "display_name": "env",
   "language": "python",
   "name": "python3"
  },
  "language_info": {
   "codemirror_mode": {
    "name": "ipython",
    "version": 3
   },
   "file_extension": ".py",
   "mimetype": "text/x-python",
   "name": "python",
   "nbconvert_exporter": "python",
   "pygments_lexer": "ipython3",
   "version": "3.12.2"
  }
 },
 "nbformat": 4,
 "nbformat_minor": 2
}
